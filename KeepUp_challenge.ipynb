{
 "cells": [
  {
   "cell_type": "code",
   "execution_count": 1,
   "metadata": {},
   "outputs": [],
   "source": [
    "import pandas as pd\n",
    "import numpy as np\n",
    "from sklearn.preprocessing import MultiLabelBinarizer\n",
    "import matplotlib.pyplot as plt\n",
    "from scipy import sparse"
   ]
  },
  {
   "cell_type": "markdown",
   "metadata": {},
   "source": [
    "Since reviews are often prone to abuse, we want to look at the ratings and gather which ones are not worthwhile. Fortunately, we are provided with user votes as helpful or unhelpful."
   ]
  },
  {
   "cell_type": "code",
   "execution_count": 2,
   "metadata": {},
   "outputs": [
    {
     "name": "stdout",
     "output_type": "stream",
     "text": [
      "[5, 5, 5, 4, 5, 5, 4, 4, 4, 5]\n",
      "[2, 4, 1, 1, 3, 5, 5, 5, 5, 1]\n"
     ]
    }
   ],
   "source": [
    "reading_reviews = False\n",
    "helpful_reviews = []\n",
    "unhelpful_reviews = []\n",
    "#I have enough memory to keep the text in memory rather than having to read from disk every time\n",
    "with open('amazon-meta.txt') as f:\n",
    "    lines = f.readlines()\n",
    "    \n",
    "#if memory is very limited:\n",
    "# def lines():\n",
    "#     with open('amazon-meta.txt') as f:\n",
    "#         return f.readlines()\n",
    "#then find and replace lines -> lines()\n",
    "    \n",
    "for line in lines:\n",
    "    if reading_reviews:\n",
    "        try:\n",
    "            pd.Timestamp(line.split()[0])\n",
    "        except:\n",
    "            if len(line) < 1:\n",
    "                flag = False\n",
    "        else:\n",
    "            votes = line.split('votes:')[1].strip().split()[0]\n",
    "            helpful = line.split('helpful:')[1].strip()\n",
    "            if int(votes) == 0:\n",
    "                helpful_ratio = 1\n",
    "            else:\n",
    "                helpful_ratio = int(helpful)/int(votes)\n",
    "            if helpful_ratio < 0.2:\n",
    "                unhelpful_reviews.append(int(line.split('rating: ')[1][0]))\n",
    "            else:\n",
    "                helpful_reviews.append(int(line.split('rating: ')[1][0]))\n",
    "    elif line.strip().startswith('reviews:'):\n",
    "        reading_reviews = True\n",
    "            \n",
    "print(helpful_reviews[:10])\n",
    "print(unhelpful_reviews[:10])"
   ]
  },
  {
   "cell_type": "code",
   "execution_count": 3,
   "metadata": {},
   "outputs": [
    {
     "data": {
      "text/plain": [
       "([array([0.06635359, 0.04964079, 0.07717438, 0.18559735, 0.62123388]),\n",
       "  array([0.15217256, 0.09084721, 0.1221772 , 0.17776353, 0.4570395 ])],\n",
       " array([0.5, 1.5, 2.5, 3.5, 4.5, 5.5]),\n",
       " <a list of 2 Lists of Patches objects>)"
      ]
     },
     "execution_count": 3,
     "metadata": {},
     "output_type": "execute_result"
    },
    {
     "data": {
      "image/png": "[encoded data removed]",
      "text/plain": [
       "<matplotlib.figure.Figure at 0x1a086a2b38>"
      ]
     },
     "metadata": {},
     "output_type": "display_data"
    }
   ],
   "source": [
    "plt.hist([helpful_reviews,unhelpful_reviews], bins=[0.5,1.5,2.5,3.5,4.5,5.5], normed=True)"
   ]
  },
  {
   "cell_type": "markdown",
   "metadata": {},
   "source": [
    "The plot suggests that positive reviews are more likely to be marked as helpful than negative reviews. Both helpful and unhelpful reviews are biased toward a rating of 5.\n",
    "\n",
    "---\n",
    "\n",
    "We will need to first aggregate all book category labels before we can analyze how to reduce the number of categories."
   ]
  },
  {
   "cell_type": "code",
   "execution_count": 4,
   "metadata": {
    "scrolled": true
   },
   "outputs": [
    {
     "name": "stdout",
     "output_type": "stream",
     "text": [
      "|[265523]|Amazon.com Stores[285080]|Home & Office[764512]|Business & Investing Books[767740]|General[767880]    18438\n",
      "|Books[283155]|Subjects[1000]|Business & Investing[3]|General[2612]                                             18436\n",
      "|Books[283155]|Subjects[1000]|Reference[21]|General[408268]                                                     13701\n",
      "|Books[283155]|Subjects[1000]|Biographies & Memoirs[2]|General[2375]                                            12241\n",
      "|Books[283155]|Subjects[1000]|Nonfiction[53]|Social Sciences[11232]|Sociology[11288]|General[11289]             11779\n",
      "|Books[283155]|Subjects[1000]|Literature & Fiction[17]|General[10125]|Contemporary[10129]                       11446\n",
      "|Books[283155]|Subjects[1000]|Children's Books[4]|Ages 4-8[2785]|General[170062]                                11439\n",
      "|Books[283155]|Subjects[1000]|Nonfiction[53]|Education[10605]|General[10635]                                     8759\n",
      "|Books[283155]|Subjects[1000]|Computers & Internet[5]|General[657762]                                            8660\n",
      "|Books[283155]|Subjects[1000]|Health, Mind & Body[10]|Psychology & Counseling[11119]|General[11175]              8064\n",
      "dtype: int64\n",
      "There are 393561 book records.\n",
      "There are 2889 categories with less than 5 associated records.\n",
      "There are 12853 unique categories.\n",
      "There are 1440329 category labels across all records.\n"
     ]
    }
   ],
   "source": [
    "all_categories = pd.Series()\n",
    "book = False\n",
    "books = 0\n",
    "for line in lines:\n",
    "    if 'group:' in line:\n",
    "        book = 'Book' in line\n",
    "        books += book\n",
    "    if book:\n",
    "        if line.strip().startswith('|'):\n",
    "            try:\n",
    "                all_categories[line.strip()]\n",
    "            except:\n",
    "                all_categories[line.strip()] = 1\n",
    "            else:\n",
    "                all_categories[line.strip()] += 1\n",
    "                \n",
    "print(all_categories.sort_values(ascending=False).head(10))\n",
    "print(\"There are {} book records.\".format(books))\n",
    "print(\"There are {} categories with less than 5 associated records.\".format(sum(all_categories < 5)))\n",
    "print(\"There are {} unique categories.\".format(len(all_categories)))\n",
    "print(\"There are {} category labels across all records.\".format(sum(all_categories)))"
   ]
  },
  {
   "cell_type": "markdown",
   "metadata": {},
   "source": [
    "In order to reduce the number of categories, we will cluster the labels into 1400 clusters (~10 percent of the original number of categories.) In order to analyze the labels, we will use scikit-learn's CountVectorizer to break the text down into three character chunks and get into a matrix that the clustering algorithm can read."
   ]
  },
  {
   "cell_type": "code",
   "execution_count": 5,
   "metadata": {},
   "outputs": [],
   "source": [
    "from sklearn import cluster\n",
    "from sklearn.feature_extraction.text import CountVectorizer"
   ]
  },
  {
   "cell_type": "code",
   "execution_count": 6,
   "metadata": {},
   "outputs": [],
   "source": [
    "vectorizer = CountVectorizer(ngram_range=(2,4), analyzer='char', min_df = 5, max_df = 0.9)\n",
    "X = vectorizer.fit_transform(all_categories.index)"
   ]
  },
  {
   "cell_type": "code",
   "execution_count": 13,
   "metadata": {},
   "outputs": [],
   "source": [
    "clusterer = cluster.AgglomerativeClustering(n_clusters=1400)\n",
    "clusters = clusterer.fit_predict(X.toarray())"
   ]
  },
  {
   "cell_type": "code",
   "execution_count": 14,
   "metadata": {},
   "outputs": [],
   "source": [
    "df = pd.DataFrame({'num_records':all_categories})\n",
    "df['cluster'] = clusters"
   ]
  },
  {
   "cell_type": "code",
   "execution_count": 15,
   "metadata": {},
   "outputs": [
    {
     "data": {
      "text/html": [
       "<div>\n",
       "<style scoped>\n",
       "    .dataframe tbody tr th:only-of-type {\n",
       "        vertical-align: middle;\n",
       "    }\n",
       "\n",
       "    .dataframe tbody tr th {\n",
       "        vertical-align: top;\n",
       "    }\n",
       "\n",
       "    .dataframe thead th {\n",
       "        text-align: right;\n",
       "    }\n",
       "</style>\n",
       "<table border=\"1\" class=\"dataframe\">\n",
       "  <thead>\n",
       "    <tr style=\"text-align: right;\">\n",
       "      <th></th>\n",
       "      <th>num_records</th>\n",
       "      <th>cluster</th>\n",
       "    </tr>\n",
       "  </thead>\n",
       "  <tbody>\n",
       "    <tr>\n",
       "      <th>|Books[283155]|Subjects[1000]|Religion &amp; Spirituality[22]|Christianity[12290]|Clergy[12360]|Preaching[12368]</th>\n",
       "      <td>364</td>\n",
       "      <td>221</td>\n",
       "    </tr>\n",
       "    <tr>\n",
       "      <th>|Books[283155]|Subjects[1000]|Religion &amp; Spirituality[22]|Christianity[12290]|Clergy[12360]|Sermons[12370]</th>\n",
       "      <td>315</td>\n",
       "      <td>221</td>\n",
       "    </tr>\n",
       "    <tr>\n",
       "      <th>|Books[283155]|Subjects[1000]|Religion &amp; Spirituality[22]|Earth-Based Religions[12472]|Wicca[12484]</th>\n",
       "      <td>490</td>\n",
       "      <td>1017</td>\n",
       "    </tr>\n",
       "    <tr>\n",
       "      <th>|Books[283155]|Subjects[1000]|Religion &amp; Spirituality[22]|Earth-Based Religions[12472]|Witchcraft[12486]</th>\n",
       "      <td>527</td>\n",
       "      <td>1017</td>\n",
       "    </tr>\n",
       "    <tr>\n",
       "      <th>|Books[283155]|Subjects[1000]|Home &amp; Garden[48]|Crafts &amp; Hobbies[5126]|General[5144]</th>\n",
       "      <td>5108</td>\n",
       "      <td>43</td>\n",
       "    </tr>\n",
       "  </tbody>\n",
       "</table>\n",
       "</div>"
      ],
      "text/plain": [
       "                                                    num_records  cluster\n",
       "|Books[283155]|Subjects[1000]|Religion & Spirit...          364      221\n",
       "|Books[283155]|Subjects[1000]|Religion & Spirit...          315      221\n",
       "|Books[283155]|Subjects[1000]|Religion & Spirit...          490     1017\n",
       "|Books[283155]|Subjects[1000]|Religion & Spirit...          527     1017\n",
       "|Books[283155]|Subjects[1000]|Home & Garden[48]...         5108       43"
      ]
     },
     "execution_count": 15,
     "metadata": {},
     "output_type": "execute_result"
    }
   ],
   "source": [
    "df.head()"
   ]
  },
  {
   "cell_type": "markdown",
   "metadata": {},
   "source": [
    "Now that we have combined categories we will have fewer category entries for each product. We will need to search the text one more time to find out how many entries there are now."
   ]
  },
  {
   "cell_type": "code",
   "execution_count": 16,
   "metadata": {},
   "outputs": [],
   "source": [
    "book = False\n",
    "n_clusters = []\n",
    "for line in lines:\n",
    "    if 'group:' in line:\n",
    "        book = 'Book' in line\n",
    "        assoc_clusters = set()\n",
    "    elif book:\n",
    "        if line.strip().startswith('|'):\n",
    "            assoc_clusters.add(df.loc[line.strip(), 'cluster'])\n",
    "        elif len(line.strip()) < 1:\n",
    "            book = False\n",
    "            n_clusters.append(len(assoc_clusters))"
   ]
  },
  {
   "cell_type": "code",
   "execution_count": 17,
   "metadata": {},
   "outputs": [
    {
     "name": "stdout",
     "output_type": "stream",
     "text": [
      "0.8267381966203555\n"
     ]
    }
   ],
   "source": [
    "print(sum(n_clusters)/sum(all_categories))"
   ]
  },
  {
   "cell_type": "markdown",
   "metadata": {},
   "source": [
    "This is fewer category entries than we are hoping for. Let's see if we might split some of the larger clusters up again."
   ]
  },
  {
   "cell_type": "code",
   "execution_count": 21,
   "metadata": {},
   "outputs": [
    {
     "data": {
      "text/html": [
       "<div>\n",
       "<style scoped>\n",
       "    .dataframe tbody tr th:only-of-type {\n",
       "        vertical-align: middle;\n",
       "    }\n",
       "\n",
       "    .dataframe tbody tr th {\n",
       "        vertical-align: top;\n",
       "    }\n",
       "\n",
       "    .dataframe thead th {\n",
       "        text-align: right;\n",
       "    }\n",
       "</style>\n",
       "<table border=\"1\" class=\"dataframe\">\n",
       "  <thead>\n",
       "    <tr style=\"text-align: right;\">\n",
       "      <th></th>\n",
       "      <th>num_records</th>\n",
       "    </tr>\n",
       "    <tr>\n",
       "      <th>cluster</th>\n",
       "      <th></th>\n",
       "    </tr>\n",
       "  </thead>\n",
       "  <tbody>\n",
       "    <tr>\n",
       "      <th>241</th>\n",
       "      <td>26635</td>\n",
       "    </tr>\n",
       "    <tr>\n",
       "      <th>1108</th>\n",
       "      <td>24844</td>\n",
       "    </tr>\n",
       "    <tr>\n",
       "      <th>872</th>\n",
       "      <td>24438</td>\n",
       "    </tr>\n",
       "    <tr>\n",
       "      <th>425</th>\n",
       "      <td>23773</td>\n",
       "    </tr>\n",
       "    <tr>\n",
       "      <th>126</th>\n",
       "      <td>18030</td>\n",
       "    </tr>\n",
       "    <tr>\n",
       "      <th>239</th>\n",
       "      <td>16829</td>\n",
       "    </tr>\n",
       "    <tr>\n",
       "      <th>146</th>\n",
       "      <td>16753</td>\n",
       "    </tr>\n",
       "    <tr>\n",
       "      <th>350</th>\n",
       "      <td>13813</td>\n",
       "    </tr>\n",
       "    <tr>\n",
       "      <th>523</th>\n",
       "      <td>13387</td>\n",
       "    </tr>\n",
       "    <tr>\n",
       "      <th>153</th>\n",
       "      <td>13137</td>\n",
       "    </tr>\n",
       "  </tbody>\n",
       "</table>\n",
       "</div>"
      ],
      "text/plain": [
       "         num_records\n",
       "cluster             \n",
       "241            26635\n",
       "1108           24844\n",
       "872            24438\n",
       "425            23773\n",
       "126            18030\n",
       "239            16829\n",
       "146            16753\n",
       "350            13813\n",
       "523            13387\n",
       "153            13137"
      ]
     },
     "execution_count": 21,
     "metadata": {},
     "output_type": "execute_result"
    }
   ],
   "source": [
    "by_cluster = df.groupby('cluster').sum()\n",
    "by_cluster.sort_values('num_records', ascending=False).head(10)"
   ]
  },
  {
   "cell_type": "code",
   "execution_count": 22,
   "metadata": {},
   "outputs": [
    {
     "data": {
      "text/html": [
       "<div>\n",
       "<style scoped>\n",
       "    .dataframe tbody tr th:only-of-type {\n",
       "        vertical-align: middle;\n",
       "    }\n",
       "\n",
       "    .dataframe tbody tr th {\n",
       "        vertical-align: top;\n",
       "    }\n",
       "\n",
       "    .dataframe thead th {\n",
       "        text-align: right;\n",
       "    }\n",
       "</style>\n",
       "<table border=\"1\" class=\"dataframe\">\n",
       "  <thead>\n",
       "    <tr style=\"text-align: right;\">\n",
       "      <th></th>\n",
       "      <th>num_records</th>\n",
       "      <th>cluster</th>\n",
       "    </tr>\n",
       "  </thead>\n",
       "  <tbody>\n",
       "    <tr>\n",
       "      <th>|Books[283155]|Subjects[1000]|Business &amp; Investing[3]|General[2612]</th>\n",
       "      <td>18436</td>\n",
       "      <td>241</td>\n",
       "    </tr>\n",
       "    <tr>\n",
       "      <th>|Books[283155]|Subjects[1000]|Business &amp; Investing[3]|Economics[2581]|Economic History[2589]</th>\n",
       "      <td>439</td>\n",
       "      <td>241</td>\n",
       "    </tr>\n",
       "    <tr>\n",
       "      <th>|Books[283155]|Subjects[1000]|Business &amp; Investing[3]|Economics[2581]|Development &amp; Growth[2585]</th>\n",
       "      <td>625</td>\n",
       "      <td>241</td>\n",
       "    </tr>\n",
       "    <tr>\n",
       "      <th>|Books[283155]|Subjects[1000]|Business &amp; Investing[3]|Economics[2581]|Economic Policy &amp; Development[2588]</th>\n",
       "      <td>928</td>\n",
       "      <td>241</td>\n",
       "    </tr>\n",
       "    <tr>\n",
       "      <th>|Books[283155]|Subjects[1000]|Business &amp; Investing[3]|Economics[2581]|International[2594]</th>\n",
       "      <td>517</td>\n",
       "      <td>241</td>\n",
       "    </tr>\n",
       "    <tr>\n",
       "      <th>|Books[283155]|Subjects[1000]|Business &amp; Investing[3]|Economics[2581]|Labor &amp; Industrial Relations[2595]</th>\n",
       "      <td>543</td>\n",
       "      <td>241</td>\n",
       "    </tr>\n",
       "    <tr>\n",
       "      <th>|Books[283155]|Subjects[1000]|Business &amp; Investing[3]|Economics[2581]|Money &amp; Monetary Policy[2598]</th>\n",
       "      <td>164</td>\n",
       "      <td>241</td>\n",
       "    </tr>\n",
       "    <tr>\n",
       "      <th>|Books[283155]|Subjects[1000]|Business &amp; Investing[3]|Economics[2581]|General[2592]</th>\n",
       "      <td>1669</td>\n",
       "      <td>241</td>\n",
       "    </tr>\n",
       "    <tr>\n",
       "      <th>|Books[283155]|Subjects[1000]|Business &amp; Investing[3]|Economics[2581]|Econometrics[2586]</th>\n",
       "      <td>170</td>\n",
       "      <td>241</td>\n",
       "    </tr>\n",
       "    <tr>\n",
       "      <th>|Books[283155]|Subjects[1000]|Business &amp; Investing[3]|Economics[2581]|Natural Resources[1043856]</th>\n",
       "      <td>501</td>\n",
       "      <td>241</td>\n",
       "    </tr>\n",
       "    <tr>\n",
       "      <th>|Books[283155]|Subjects[1000]|Business &amp; Investing[3]|Economics[2581]|Free Enterprise[2591]</th>\n",
       "      <td>109</td>\n",
       "      <td>241</td>\n",
       "    </tr>\n",
       "    <tr>\n",
       "      <th>|Books[283155]|Subjects[1000]|Business &amp; Investing[3]|Economics[2581]|Economic Conditions[2587]</th>\n",
       "      <td>696</td>\n",
       "      <td>241</td>\n",
       "    </tr>\n",
       "    <tr>\n",
       "      <th>|Books[283155]|Subjects[1000]|Business &amp; Investing[3]|Economics[2581]|Theory[2602]</th>\n",
       "      <td>574</td>\n",
       "      <td>241</td>\n",
       "    </tr>\n",
       "    <tr>\n",
       "      <th>|Books[283155]|Subjects[1000]|Business &amp; Investing[3]|Economics[2581]|Microeconomics[2597]</th>\n",
       "      <td>179</td>\n",
       "      <td>241</td>\n",
       "    </tr>\n",
       "    <tr>\n",
       "      <th>|Books[283155]|Subjects[1000]|Business &amp; Investing[3]|Economics[2581]|Macroeconomics[2596]</th>\n",
       "      <td>211</td>\n",
       "      <td>241</td>\n",
       "    </tr>\n",
       "    <tr>\n",
       "      <th>|Books[283155]|Subjects[1000]|Business &amp; Investing[3]|Economics[2581]|Exports &amp; Imports[2590]</th>\n",
       "      <td>253</td>\n",
       "      <td>241</td>\n",
       "    </tr>\n",
       "    <tr>\n",
       "      <th>|Books[283155]|Subjects[1000]|Business &amp; Investing[3]|Economics[2581]|Public Finance[2599]</th>\n",
       "      <td>69</td>\n",
       "      <td>241</td>\n",
       "    </tr>\n",
       "    <tr>\n",
       "      <th>|Books[283155]|Subjects[1000]|Business &amp; Investing[3]|Economics[2581]|Debt &amp; Deficits[193846]</th>\n",
       "      <td>69</td>\n",
       "      <td>241</td>\n",
       "    </tr>\n",
       "    <tr>\n",
       "      <th>|Books[283155]|Subjects[1000]|Business &amp; Investing[3]|Economics[2581]|Sustainable Development[2601]</th>\n",
       "      <td>216</td>\n",
       "      <td>241</td>\n",
       "    </tr>\n",
       "    <tr>\n",
       "      <th>|Books[283155]|Subjects[1000]|Business &amp; Investing[3]|Economics[2581]|Statistics[2600]</th>\n",
       "      <td>169</td>\n",
       "      <td>241</td>\n",
       "    </tr>\n",
       "    <tr>\n",
       "      <th>|Books[283155]|Subjects[1000]|Business &amp; Investing[3]|Economics[2581]|Comparative[2583]</th>\n",
       "      <td>43</td>\n",
       "      <td>241</td>\n",
       "    </tr>\n",
       "    <tr>\n",
       "      <th>|Books[283155]|Subjects[1000]|Business &amp; Investing[3]|Economics[2581]|Unemployment[1043858]</th>\n",
       "      <td>15</td>\n",
       "      <td>241</td>\n",
       "    </tr>\n",
       "    <tr>\n",
       "      <th>|Books[283155]|Subjects[1000]|Business &amp; Investing[3]|Economics[2581]|Urban &amp; Regional[2603]</th>\n",
       "      <td>22</td>\n",
       "      <td>241</td>\n",
       "    </tr>\n",
       "    <tr>\n",
       "      <th>|Books[283155]|Subjects[1000]|Business &amp; Investing[3]|Economics[2581]|Inflation[2593]</th>\n",
       "      <td>7</td>\n",
       "      <td>241</td>\n",
       "    </tr>\n",
       "    <tr>\n",
       "      <th>|Books[283155]|Subjects[1000]|Business &amp; Investing[3]|Economics[2581]|Commercial Policy[2582]</th>\n",
       "      <td>11</td>\n",
       "      <td>241</td>\n",
       "    </tr>\n",
       "  </tbody>\n",
       "</table>\n",
       "</div>"
      ],
      "text/plain": [
       "                                                    num_records  cluster\n",
       "|Books[283155]|Subjects[1000]|Business & Invest...        18436      241\n",
       "|Books[283155]|Subjects[1000]|Business & Invest...          439      241\n",
       "|Books[283155]|Subjects[1000]|Business & Invest...          625      241\n",
       "|Books[283155]|Subjects[1000]|Business & Invest...          928      241\n",
       "|Books[283155]|Subjects[1000]|Business & Invest...          517      241\n",
       "|Books[283155]|Subjects[1000]|Business & Invest...          543      241\n",
       "|Books[283155]|Subjects[1000]|Business & Invest...          164      241\n",
       "|Books[283155]|Subjects[1000]|Business & Invest...         1669      241\n",
       "|Books[283155]|Subjects[1000]|Business & Invest...          170      241\n",
       "|Books[283155]|Subjects[1000]|Business & Invest...          501      241\n",
       "|Books[283155]|Subjects[1000]|Business & Invest...          109      241\n",
       "|Books[283155]|Subjects[1000]|Business & Invest...          696      241\n",
       "|Books[283155]|Subjects[1000]|Business & Invest...          574      241\n",
       "|Books[283155]|Subjects[1000]|Business & Invest...          179      241\n",
       "|Books[283155]|Subjects[1000]|Business & Invest...          211      241\n",
       "|Books[283155]|Subjects[1000]|Business & Invest...          253      241\n",
       "|Books[283155]|Subjects[1000]|Business & Invest...           69      241\n",
       "|Books[283155]|Subjects[1000]|Business & Invest...           69      241\n",
       "|Books[283155]|Subjects[1000]|Business & Invest...          216      241\n",
       "|Books[283155]|Subjects[1000]|Business & Invest...          169      241\n",
       "|Books[283155]|Subjects[1000]|Business & Invest...           43      241\n",
       "|Books[283155]|Subjects[1000]|Business & Invest...           15      241\n",
       "|Books[283155]|Subjects[1000]|Business & Invest...           22      241\n",
       "|Books[283155]|Subjects[1000]|Business & Invest...            7      241\n",
       "|Books[283155]|Subjects[1000]|Business & Invest...           11      241"
      ]
     },
     "execution_count": 22,
     "metadata": {},
     "output_type": "execute_result"
    }
   ],
   "source": [
    "df.loc[df.cluster == 241]"
   ]
  },
  {
   "cell_type": "markdown",
   "metadata": {},
   "source": [
    "The largest category is notably not in economics, so we can give it it's own cluster."
   ]
  },
  {
   "cell_type": "code",
   "execution_count": 27,
   "metadata": {},
   "outputs": [
    {
     "data": {
      "text/html": [
       "<div>\n",
       "<style scoped>\n",
       "    .dataframe tbody tr th:only-of-type {\n",
       "        vertical-align: middle;\n",
       "    }\n",
       "\n",
       "    .dataframe tbody tr th {\n",
       "        vertical-align: top;\n",
       "    }\n",
       "\n",
       "    .dataframe thead th {\n",
       "        text-align: right;\n",
       "    }\n",
       "</style>\n",
       "<table border=\"1\" class=\"dataframe\">\n",
       "  <thead>\n",
       "    <tr style=\"text-align: right;\">\n",
       "      <th></th>\n",
       "      <th>num_records</th>\n",
       "      <th>cluster</th>\n",
       "    </tr>\n",
       "  </thead>\n",
       "  <tbody>\n",
       "    <tr>\n",
       "      <th>|Books[283155]|Subjects[1000]|Business &amp; Investing[3]|General[2612]</th>\n",
       "      <td>18436</td>\n",
       "      <td>241.1</td>\n",
       "    </tr>\n",
       "    <tr>\n",
       "      <th>|Books[283155]|Subjects[1000]|Business &amp; Investing[3]|Economics[2581]|Economic History[2589]</th>\n",
       "      <td>439</td>\n",
       "      <td>241.0</td>\n",
       "    </tr>\n",
       "    <tr>\n",
       "      <th>|Books[283155]|Subjects[1000]|Business &amp; Investing[3]|Economics[2581]|Development &amp; Growth[2585]</th>\n",
       "      <td>625</td>\n",
       "      <td>241.0</td>\n",
       "    </tr>\n",
       "    <tr>\n",
       "      <th>|Books[283155]|Subjects[1000]|Business &amp; Investing[3]|Economics[2581]|Economic Policy &amp; Development[2588]</th>\n",
       "      <td>928</td>\n",
       "      <td>241.0</td>\n",
       "    </tr>\n",
       "    <tr>\n",
       "      <th>|Books[283155]|Subjects[1000]|Business &amp; Investing[3]|Economics[2581]|International[2594]</th>\n",
       "      <td>517</td>\n",
       "      <td>241.0</td>\n",
       "    </tr>\n",
       "    <tr>\n",
       "      <th>|Books[283155]|Subjects[1000]|Business &amp; Investing[3]|Economics[2581]|Labor &amp; Industrial Relations[2595]</th>\n",
       "      <td>543</td>\n",
       "      <td>241.0</td>\n",
       "    </tr>\n",
       "    <tr>\n",
       "      <th>|Books[283155]|Subjects[1000]|Business &amp; Investing[3]|Economics[2581]|Money &amp; Monetary Policy[2598]</th>\n",
       "      <td>164</td>\n",
       "      <td>241.0</td>\n",
       "    </tr>\n",
       "    <tr>\n",
       "      <th>|Books[283155]|Subjects[1000]|Business &amp; Investing[3]|Economics[2581]|General[2592]</th>\n",
       "      <td>1669</td>\n",
       "      <td>241.0</td>\n",
       "    </tr>\n",
       "    <tr>\n",
       "      <th>|Books[283155]|Subjects[1000]|Business &amp; Investing[3]|Economics[2581]|Econometrics[2586]</th>\n",
       "      <td>170</td>\n",
       "      <td>241.0</td>\n",
       "    </tr>\n",
       "    <tr>\n",
       "      <th>|Books[283155]|Subjects[1000]|Business &amp; Investing[3]|Economics[2581]|Natural Resources[1043856]</th>\n",
       "      <td>501</td>\n",
       "      <td>241.0</td>\n",
       "    </tr>\n",
       "    <tr>\n",
       "      <th>|Books[283155]|Subjects[1000]|Business &amp; Investing[3]|Economics[2581]|Free Enterprise[2591]</th>\n",
       "      <td>109</td>\n",
       "      <td>241.0</td>\n",
       "    </tr>\n",
       "    <tr>\n",
       "      <th>|Books[283155]|Subjects[1000]|Business &amp; Investing[3]|Economics[2581]|Economic Conditions[2587]</th>\n",
       "      <td>696</td>\n",
       "      <td>241.0</td>\n",
       "    </tr>\n",
       "    <tr>\n",
       "      <th>|Books[283155]|Subjects[1000]|Business &amp; Investing[3]|Economics[2581]|Theory[2602]</th>\n",
       "      <td>574</td>\n",
       "      <td>241.0</td>\n",
       "    </tr>\n",
       "    <tr>\n",
       "      <th>|Books[283155]|Subjects[1000]|Business &amp; Investing[3]|Economics[2581]|Microeconomics[2597]</th>\n",
       "      <td>179</td>\n",
       "      <td>241.0</td>\n",
       "    </tr>\n",
       "    <tr>\n",
       "      <th>|Books[283155]|Subjects[1000]|Business &amp; Investing[3]|Economics[2581]|Macroeconomics[2596]</th>\n",
       "      <td>211</td>\n",
       "      <td>241.0</td>\n",
       "    </tr>\n",
       "    <tr>\n",
       "      <th>|Books[283155]|Subjects[1000]|Business &amp; Investing[3]|Economics[2581]|Exports &amp; Imports[2590]</th>\n",
       "      <td>253</td>\n",
       "      <td>241.0</td>\n",
       "    </tr>\n",
       "    <tr>\n",
       "      <th>|Books[283155]|Subjects[1000]|Business &amp; Investing[3]|Economics[2581]|Public Finance[2599]</th>\n",
       "      <td>69</td>\n",
       "      <td>241.0</td>\n",
       "    </tr>\n",
       "    <tr>\n",
       "      <th>|Books[283155]|Subjects[1000]|Business &amp; Investing[3]|Economics[2581]|Debt &amp; Deficits[193846]</th>\n",
       "      <td>69</td>\n",
       "      <td>241.0</td>\n",
       "    </tr>\n",
       "    <tr>\n",
       "      <th>|Books[283155]|Subjects[1000]|Business &amp; Investing[3]|Economics[2581]|Sustainable Development[2601]</th>\n",
       "      <td>216</td>\n",
       "      <td>241.0</td>\n",
       "    </tr>\n",
       "    <tr>\n",
       "      <th>|Books[283155]|Subjects[1000]|Business &amp; Investing[3]|Economics[2581]|Statistics[2600]</th>\n",
       "      <td>169</td>\n",
       "      <td>241.0</td>\n",
       "    </tr>\n",
       "    <tr>\n",
       "      <th>|Books[283155]|Subjects[1000]|Business &amp; Investing[3]|Economics[2581]|Comparative[2583]</th>\n",
       "      <td>43</td>\n",
       "      <td>241.0</td>\n",
       "    </tr>\n",
       "    <tr>\n",
       "      <th>|Books[283155]|Subjects[1000]|Business &amp; Investing[3]|Economics[2581]|Unemployment[1043858]</th>\n",
       "      <td>15</td>\n",
       "      <td>241.0</td>\n",
       "    </tr>\n",
       "    <tr>\n",
       "      <th>|Books[283155]|Subjects[1000]|Business &amp; Investing[3]|Economics[2581]|Urban &amp; Regional[2603]</th>\n",
       "      <td>22</td>\n",
       "      <td>241.0</td>\n",
       "    </tr>\n",
       "    <tr>\n",
       "      <th>|Books[283155]|Subjects[1000]|Business &amp; Investing[3]|Economics[2581]|Inflation[2593]</th>\n",
       "      <td>7</td>\n",
       "      <td>241.0</td>\n",
       "    </tr>\n",
       "    <tr>\n",
       "      <th>|Books[283155]|Subjects[1000]|Business &amp; Investing[3]|Economics[2581]|Commercial Policy[2582]</th>\n",
       "      <td>11</td>\n",
       "      <td>241.0</td>\n",
       "    </tr>\n",
       "  </tbody>\n",
       "</table>\n",
       "</div>"
      ],
      "text/plain": [
       "                                                    num_records  cluster\n",
       "|Books[283155]|Subjects[1000]|Business & Invest...        18436    241.1\n",
       "|Books[283155]|Subjects[1000]|Business & Invest...          439    241.0\n",
       "|Books[283155]|Subjects[1000]|Business & Invest...          625    241.0\n",
       "|Books[283155]|Subjects[1000]|Business & Invest...          928    241.0\n",
       "|Books[283155]|Subjects[1000]|Business & Invest...          517    241.0\n",
       "|Books[283155]|Subjects[1000]|Business & Invest...          543    241.0\n",
       "|Books[283155]|Subjects[1000]|Business & Invest...          164    241.0\n",
       "|Books[283155]|Subjects[1000]|Business & Invest...         1669    241.0\n",
       "|Books[283155]|Subjects[1000]|Business & Invest...          170    241.0\n",
       "|Books[283155]|Subjects[1000]|Business & Invest...          501    241.0\n",
       "|Books[283155]|Subjects[1000]|Business & Invest...          109    241.0\n",
       "|Books[283155]|Subjects[1000]|Business & Invest...          696    241.0\n",
       "|Books[283155]|Subjects[1000]|Business & Invest...          574    241.0\n",
       "|Books[283155]|Subjects[1000]|Business & Invest...          179    241.0\n",
       "|Books[283155]|Subjects[1000]|Business & Invest...          211    241.0\n",
       "|Books[283155]|Subjects[1000]|Business & Invest...          253    241.0\n",
       "|Books[283155]|Subjects[1000]|Business & Invest...           69    241.0\n",
       "|Books[283155]|Subjects[1000]|Business & Invest...           69    241.0\n",
       "|Books[283155]|Subjects[1000]|Business & Invest...          216    241.0\n",
       "|Books[283155]|Subjects[1000]|Business & Invest...          169    241.0\n",
       "|Books[283155]|Subjects[1000]|Business & Invest...           43    241.0\n",
       "|Books[283155]|Subjects[1000]|Business & Invest...           15    241.0\n",
       "|Books[283155]|Subjects[1000]|Business & Invest...           22    241.0\n",
       "|Books[283155]|Subjects[1000]|Business & Invest...            7    241.0\n",
       "|Books[283155]|Subjects[1000]|Business & Invest...           11    241.0"
      ]
     },
     "execution_count": 27,
     "metadata": {},
     "output_type": "execute_result"
    }
   ],
   "source": [
    "df.loc['|Books[283155]|Subjects[1000]|Business & Investing[3]|General[2612]','cluster'] = 241.1\n",
    "df.loc[(df.cluster > 240)&(df.cluster < 242)]"
   ]
  },
  {
   "cell_type": "code",
   "execution_count": 36,
   "metadata": {},
   "outputs": [
    {
     "data": {
      "text/plain": [
       "['|Books[283155]|Subjects[1000]|Business & Investing[3]|Economics[2581]|Economic Policy & Development[2588]',\n",
       " '|Books[283155]|Subjects[1000]|Business & Investing[3]|Economics[2581]|Money & Monetary Policy[2598]',\n",
       " '|Books[283155]|Subjects[1000]|Business & Investing[3]|Economics[2581]|Commercial Policy[2582]']"
      ]
     },
     "execution_count": 36,
     "metadata": {},
     "output_type": "execute_result"
    }
   ],
   "source": [
    "econs = [x for x in df.loc[df.cluster == 241].index if 'Policy' in x]\n",
    "econs"
   ]
  },
  {
   "cell_type": "code",
   "execution_count": 38,
   "metadata": {},
   "outputs": [],
   "source": [
    "df.loc[econs] = 241.2"
   ]
  },
  {
   "cell_type": "code",
   "execution_count": 39,
   "metadata": {},
   "outputs": [],
   "source": [
    "df.loc['|Books[283155]|Subjects[1000]|Business & Investing[3]|Economics[2581]|General[2592]'] = 241.3"
   ]
  },
  {
   "cell_type": "code",
   "execution_count": 40,
   "metadata": {},
   "outputs": [
    {
     "name": "stdout",
     "output_type": "stream",
     "text": [
      "0.8300992342721698\n"
     ]
    }
   ],
   "source": [
    "book = False\n",
    "n_clusters = []\n",
    "for line in lines:\n",
    "    if 'group:' in line:\n",
    "        book = 'Book' in line\n",
    "        assoc_clusters = set()\n",
    "    elif book:\n",
    "        if line.strip().startswith('|'):\n",
    "            assoc_clusters.add(df.loc[line.strip(), 'cluster'])\n",
    "        elif len(line.strip()) < 1:\n",
    "            book = False\n",
    "            n_clusters.append(len(assoc_clusters))\n",
    "            \n",
    "print(sum(n_clusters)/sum(all_categories))"
   ]
  },
  {
   "cell_type": "markdown",
   "metadata": {},
   "source": [
    "We have dropped 17% of the total category entries, and have reduced the number of categories to 1403, or just over 10 percent of the original.\n",
    "\n",
    "If it is not acceptable to have cluster numbers instead of descriptive labels we could have humans attach labels for each of the clusters, or if that is prohibitively expensive we could try to rebuild the categorization from scratch by parsing the similarities within each cluster.\n",
    "\n",
    "---\n",
    "\n",
    "1. How would build the product categorization from scratch, using similar/co-purchased information?\n",
    "    * I would use heirarchical clustering, similar to above. However, without the categorization data we have here, I would use the similar/co-purchasing information to learn the distance between products. I would most likely make a separate tree for each of the 'group' labels given, since i.e. video labels are likely not going to be in the same category tree as book labels.\n",
    "    \n",
    "1. **Product thinking**  \n",
    "    Now, put on your 'product thinking' hat.\n",
    "    \n",
    "    a. Is it a good idea to show users the categorization hierarchy for items?  \n",
    "    b. Is it a good idea to show users similar/co-purchased items?  \n",
    "    c. Is it a good idea to show users reviews and ratings for items?  \n",
    "    d. For each of the above, why? How will you establish the same?  \n",
    "    \n",
    "    * I think the categorization heirarchy as given here is not helpful for users to see. It is confusing and may distract users.\n",
    "    \n",
    "    Similar items, by contrast, can certainly be helpful to show to users. Users may find a different item that is more in line with their needs, or they may have an easier time finding products that go together.\n",
    "    \n",
    "    Reviews are helpful for users to see because it makes the user feel more confident in the product they are buying to know that people like them are satisfied with the product."
   ]
  }
 ],
 "metadata": {
  "kernelspec": {
   "display_name": "Python [default]",
   "language": "python",
   "name": "python3"
  },
  "language_info": {
   "codemirror_mode": {
    "name": "ipython",
    "version": 3
   },
   "file_extension": ".py",
   "mimetype": "text/x-python",
   "name": "python",
   "nbconvert_exporter": "python",
   "pygments_lexer": "ipython3",
   "version": "3.6.4"
  }
 },
 "nbformat": 4,
 "nbformat_minor": 2
}
